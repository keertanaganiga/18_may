{
  "nbformat": 4,
  "nbformat_minor": 0,
  "metadata": {
    "colab": {
      "name": "09_nov_2020_ADP",
      "provenance": [],
      "authorship_tag": "ABX9TyODL1oU80sS0EvCEpZ1NXf9",
      "include_colab_link": true
    },
    "kernelspec": {
      "name": "python3",
      "display_name": "Python 3"
    }
  },
  "cells": [
    {
      "cell_type": "markdown",
      "metadata": {
        "id": "view-in-github",
        "colab_type": "text"
      },
      "source": [
        "<a href=\"https://colab.research.google.com/github/keertanaganiga/Lockdown_coding/blob/master/09_nov_2020_ADP.ipynb\" target=\"_parent\"><img src=\"https://colab.research.google.com/assets/colab-badge.svg\" alt=\"Open In Colab\"/></a>"
      ]
    },
    {
      "cell_type": "code",
      "metadata": {
        "id": "NDsw257WzlMy",
        "outputId": "98c0304c-114d-4a4c-e1c2-f8fdebafaea5",
        "colab": {
          "base_uri": "https://localhost:8080/"
        }
      },
      "source": [
        "'''\n",
        "write a python program to read the element inside the dictionary\n",
        "'''\n",
        "dictionary = { }\n",
        "n = int(input(\"how many pair you want to insert: \"))\n",
        "for i in range(0,n):\n",
        "\tkey=input(\"enter the key: \")\n",
        "\tvalue=input(\"enter the value: \")\n",
        "\tdictionary[key]=value\n",
        "\n",
        "print(dictionary)"
      ],
      "execution_count": 4,
      "outputs": [
        {
          "output_type": "stream",
          "text": [
            "how many pair you want to insert: 3\n",
            "enter the key: keertana\n",
            "enter the value: ganiga\n",
            "enter the key: kartik\n",
            "enter the value: ganiga\n",
            "enter the key: sanvi\n",
            "enter the value: ganiga\n",
            "{'keertana': 'ganiga', 'kartik': 'ganiga', 'sanvi': 'ganiga'}\n"
          ],
          "name": "stdout"
        }
      ]
    },
    {
      "cell_type": "code",
      "metadata": {
        "id": "8_Ap9OG81cnz",
        "outputId": "d00a84ff-b8c9-4431-fb2c-a7951cf9ca04",
        "colab": {
          "base_uri": "https://localhost:8080/"
        }
      },
      "source": [
        "'''\n",
        "write a python program to reverse a given string.\n",
        "'''\n",
        "s=input(\"enter the name: \")\n",
        "x=\"\".join(reversed(s))\n",
        "print(x)"
      ],
      "execution_count": 9,
      "outputs": [
        {
          "output_type": "stream",
          "text": [
            "enter the name: kark\n",
            "krak\n"
          ],
          "name": "stdout"
        }
      ]
    },
    {
      "cell_type": "code",
      "metadata": {
        "id": "JeIRpAl31zP9",
        "outputId": "ff489ef1-3e28-4e24-b641-d1cc55f08eed",
        "colab": {
          "base_uri": "https://localhost:8080/"
        }
      },
      "source": [
        "s = input(\"enter the string: \")\n",
        "string=\"\"\n",
        "for i in range(len(s),0,-1):\n",
        "\tstring=string+s[i-1]\n",
        "\n",
        "print(string)"
      ],
      "execution_count": 8,
      "outputs": [
        {
          "output_type": "stream",
          "text": [
            "enter the string: keertana\n",
            "anatreek\n"
          ],
          "name": "stdout"
        }
      ]
    }
  ]
}