{
  "nbformat": 4,
  "nbformat_minor": 0,
  "metadata": {
    "colab": {
      "name": "10_nov_2020",
      "provenance": [],
      "authorship_tag": "ABX9TyNn/4SviJBElaBYdrgr9a7U",
      "include_colab_link": true
    },
    "kernelspec": {
      "name": "python3",
      "display_name": "Python 3"
    }
  },
  "cells": [
    {
      "cell_type": "markdown",
      "metadata": {
        "id": "view-in-github",
        "colab_type": "text"
      },
      "source": [
        "<a href=\"https://colab.research.google.com/github/keertanaganiga/Lockdown_coding/blob/master/10_nov_2020.ipynb\" target=\"_parent\"><img src=\"https://colab.research.google.com/assets/colab-badge.svg\" alt=\"Open In Colab\"/></a>"
      ]
    },
    {
      "cell_type": "code",
      "metadata": {
        "id": "rzY59lD2TBo3",
        "outputId": "9765b3b7-b6ee-4ce9-ac2f-4cbcc119d356",
        "colab": {
          "base_uri": "https://localhost:8080/"
        }
      },
      "source": [
        "string=input()\n",
        "if string=='G':\n",
        "  print(string.replace('G','C'))\n",
        "elif string=='C':\n",
        "  print(string.replace('C','G'))\n",
        "elif string=='T':\n",
        "  print(string.replace('T','A'))\n",
        "elif string=='A':\n",
        "  print(string.replace('A','U'))\n",
        "else:\n",
        "  print(\"Invalid Input\")"
      ],
      "execution_count": 5,
      "outputs": [
        {
          "output_type": "stream",
          "text": [
            "ACGTGGTCTTAA\n",
            "Invalid Input\n"
          ],
          "name": "stdout"
        }
      ]
    },
    {
      "cell_type": "code",
      "metadata": {
        "id": "TZlww-tKbrwk"
      },
      "source": [
        "\n",
        " "
      ],
      "execution_count": null,
      "outputs": []
    }
  ]
}