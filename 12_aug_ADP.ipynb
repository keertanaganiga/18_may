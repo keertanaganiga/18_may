{
  "nbformat": 4,
  "nbformat_minor": 0,
  "metadata": {
    "colab": {
      "name": "12_aug_ADP",
      "provenance": [],
      "authorship_tag": "ABX9TyMW6nzUxQQ52WuyhsRTTmpW",
      "include_colab_link": true
    },
    "kernelspec": {
      "name": "python3",
      "display_name": "Python 3"
    }
  },
  "cells": [
    {
      "cell_type": "markdown",
      "metadata": {
        "id": "view-in-github",
        "colab_type": "text"
      },
      "source": [
        "<a href=\"https://colab.research.google.com/github/keertanaganiga/Lockdown_coding/blob/master/12_aug_ADP.ipynb\" target=\"_parent\"><img src=\"https://colab.research.google.com/assets/colab-badge.svg\" alt=\"Open In Colab\"/></a>"
      ]
    },
    {
      "cell_type": "code",
      "metadata": {
        "id": "7xff2kDWn-g3",
        "colab_type": "code",
        "colab": {
          "base_uri": "https://localhost:8080/",
          "height": 50
        },
        "outputId": "95d5d657-f8ce-4d95-9c55-5a58c46921a6"
      },
      "source": [
        "n=int(input(\"enter the number\"))\n",
        "if n!=0 and (n&(n-1))==0:\n",
        "    print(\"it is power of 2\")\n",
        "else:\n",
        "    print(\"it is not a power of 2\")"
      ],
      "execution_count": 1,
      "outputs": [
        {
          "output_type": "stream",
          "text": [
            "enter the number4\n",
            "it is power of 2\n"
          ],
          "name": "stdout"
        }
      ]
    },
    {
      "cell_type": "code",
      "metadata": {
        "id": "buZTY4P7oKOb",
        "colab_type": "code",
        "colab": {
          "base_uri": "https://localhost:8080/",
          "height": 286
        },
        "outputId": "11284de1-cbf1-4632-8ed6-8d0172802565"
      },
      "source": [
        "i=1\n",
        "while (i<=5):\n",
        "  s=input(\"enter the word:\")\n",
        "  if (len(s)<6):\n",
        "    i=i-1\n",
        "    print(\"re-enter\")\n",
        "  else:\n",
        "    print(\"the word is\",s)\n",
        "  i=i+1"
      ],
      "execution_count": 2,
      "outputs": [
        {
          "output_type": "stream",
          "text": [
            "enter the word:keertana\n",
            "the word is keertana\n",
            "enter the word:karthik\n",
            "the word is karthik\n",
            "enter the word:sinchana\n",
            "the word is sinchana\n",
            "enter the word:lavanya\n",
            "the word is lavanya\n",
            "enter the word:shri\n",
            "re-enter\n",
            "enter the word:k\n",
            "re-enter\n",
            "enter the word:you\n",
            "re-enter\n",
            "enter the word:monkey\n",
            "the word is monkey\n"
          ],
          "name": "stdout"
        }
      ]
    },
    {
      "cell_type": "code",
      "metadata": {
        "id": "LrvlEVQPor4H",
        "colab_type": "code",
        "colab": {
          "base_uri": "https://localhost:8080/",
          "height": 84
        },
        "outputId": "265b8cb1-5e9a-451f-c4cd-35b68e826593"
      },
      "source": [
        "i=1\n",
        "while i<=4:\n",
        "  if (i==1 or i==4):\n",
        "    print(\"*\"*4)\n",
        "  else:\n",
        "    print(\"*\",\"\"*2,\"*\")\n",
        "  i=i+1"
      ],
      "execution_count": 5,
      "outputs": [
        {
          "output_type": "stream",
          "text": [
            "****\n",
            "*  *\n",
            "*  *\n",
            "****\n"
          ],
          "name": "stdout"
        }
      ]
    }
  ]
}