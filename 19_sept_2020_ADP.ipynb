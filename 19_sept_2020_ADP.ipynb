{
  "nbformat": 4,
  "nbformat_minor": 0,
  "metadata": {
    "colab": {
      "name": "19_sept_2020_ADP",
      "provenance": [],
      "authorship_tag": "ABX9TyOsfEr31ZLEWfpbrHZTWZD3",
      "include_colab_link": true
    },
    "kernelspec": {
      "name": "python3",
      "display_name": "Python 3"
    }
  },
  "cells": [
    {
      "cell_type": "markdown",
      "metadata": {
        "id": "view-in-github",
        "colab_type": "text"
      },
      "source": [
        "<a href=\"https://colab.research.google.com/github/keertanaganiga/Lockdown_coding/blob/master/19_sept_2020_ADP.ipynb\" target=\"_parent\"><img src=\"https://colab.research.google.com/assets/colab-badge.svg\" alt=\"Open In Colab\"/></a>"
      ]
    },
    {
      "cell_type": "code",
      "metadata": {
        "id": "_6V7nr4lGrir",
        "colab_type": "code",
        "colab": {
          "base_uri": "https://localhost:8080/",
          "height": 50
        },
        "outputId": "5e7a021f-3f95-48e5-b6a3-6e41c57a2338"
      },
      "source": [
        "n=int(input())\n",
        "x=lambda:sum(range(1,n+1))\n",
        "print(x())"
      ],
      "execution_count": 1,
      "outputs": [
        {
          "output_type": "stream",
          "text": [
            "10\n",
            "55\n"
          ],
          "name": "stdout"
        }
      ]
    },
    {
      "cell_type": "code",
      "metadata": {
        "id": "4hsl1dZbKJFJ",
        "colab_type": "code",
        "colab": {
          "base_uri": "https://localhost:8080/",
          "height": 67
        },
        "outputId": "887b0a12-ca7a-4d63-f1f6-b96194b80030"
      },
      "source": [
        "'''\n",
        "write a program to calculate exponent i.e,x^y\n",
        "'''\n",
        "def exp(x,y):\n",
        "  pow=x**y\n",
        "  if(y==0):\n",
        "    return 1\n",
        "  else:\n",
        "    return x*(exp(x,y-1))\n",
        "a=int(input())\n",
        "b=int(input())\n",
        "print(\"the answer is\",exp(a,b))"
      ],
      "execution_count": 4,
      "outputs": [
        {
          "output_type": "stream",
          "text": [
            "10\n",
            "2\n",
            "the answer is 100\n"
          ],
          "name": "stdout"
        }
      ]
    }
  ]
}