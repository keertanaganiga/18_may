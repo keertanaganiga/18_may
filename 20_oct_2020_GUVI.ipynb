{
  "nbformat": 4,
  "nbformat_minor": 0,
  "metadata": {
    "colab": {
      "name": "20_oct_2020_GUVI",
      "provenance": [],
      "authorship_tag": "ABX9TyMMh+SkmxU9EpiIrLQe3o7K",
      "include_colab_link": true
    },
    "kernelspec": {
      "name": "python3",
      "display_name": "Python 3"
    }
  },
  "cells": [
    {
      "cell_type": "markdown",
      "metadata": {
        "id": "view-in-github",
        "colab_type": "text"
      },
      "source": [
        "<a href=\"https://colab.research.google.com/github/keertanaganiga/Lockdown_coding/blob/master/20_oct_2020_GUVI.ipynb\" target=\"_parent\"><img src=\"https://colab.research.google.com/assets/colab-badge.svg\" alt=\"Open In Colab\"/></a>"
      ]
    },
    {
      "cell_type": "code",
      "metadata": {
        "id": "EQ0z3oL50DqJ",
        "outputId": "0fe7aaac-77a8-482a-9f83-cad1e3ca083f",
        "colab": {
          "base_uri": "https://localhost:8080/",
          "height": 67
        }
      },
      "source": [
        "n=int(input())\n",
        "arr=[]\n",
        "count=0\n",
        "array = input() \n",
        "array = array.split() \n",
        "l=list(map(int, array)) \n",
        "print(l)\n",
        "\n",
        "\n"
      ],
      "execution_count": 1,
      "outputs": [
        {
          "output_type": "stream",
          "text": [
            "7\n",
            "1 2 3 4 4 4 5 \n",
            "[1, 2, 3, 4, 4, 4, 5]\n"
          ],
          "name": "stdout"
        }
      ]
    }
  ]
}