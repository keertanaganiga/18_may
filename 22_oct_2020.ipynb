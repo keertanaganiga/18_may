{
  "nbformat": 4,
  "nbformat_minor": 0,
  "metadata": {
    "colab": {
      "name": "22_oct_2020",
      "provenance": [],
      "authorship_tag": "ABX9TyNY688600Ga/X0IES1injrL",
      "include_colab_link": true
    },
    "kernelspec": {
      "name": "python3",
      "display_name": "Python 3"
    }
  },
  "cells": [
    {
      "cell_type": "markdown",
      "metadata": {
        "id": "view-in-github",
        "colab_type": "text"
      },
      "source": [
        "<a href=\"https://colab.research.google.com/github/keertanaganiga/Lockdown_coding/blob/master/22_oct_2020.ipynb\" target=\"_parent\"><img src=\"https://colab.research.google.com/assets/colab-badge.svg\" alt=\"Open In Colab\"/></a>"
      ]
    },
    {
      "cell_type": "code",
      "metadata": {
        "id": "XfiPDvYkdp79",
        "outputId": "920235ee-72eb-4ae0-e128-715303ce79a2",
        "colab": {
          "base_uri": "https://localhost:8080/",
          "height": 34
        }
      },
      "source": [
        "t1=(1,2,3,4,5)\n",
        "t2=(2,3,4,5,6)\n",
        "l1=list(t1)\n",
        "l2=list(t2)\n",
        "l3=[]\n",
        "t3=()\n",
        "for i in range(len(l1)):\n",
        "  l3.append(l1[i]+l2[i])\n",
        "t3=tuple(l3)\n",
        "print(t3)"
      ],
      "execution_count": 1,
      "outputs": [
        {
          "output_type": "stream",
          "text": [
            "(3, 5, 7, 9, 11)\n"
          ],
          "name": "stdout"
        }
      ]
    }
  ]
}