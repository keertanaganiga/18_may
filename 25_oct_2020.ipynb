{
  "nbformat": 4,
  "nbformat_minor": 0,
  "metadata": {
    "colab": {
      "name": "25_oct_2020",
      "provenance": [],
      "collapsed_sections": [],
      "authorship_tag": "ABX9TyNh/klt/twqlwjdbNdnZX5x",
      "include_colab_link": true
    },
    "kernelspec": {
      "name": "python3",
      "display_name": "Python 3"
    }
  },
  "cells": [
    {
      "cell_type": "markdown",
      "metadata": {
        "id": "view-in-github",
        "colab_type": "text"
      },
      "source": [
        "<a href=\"https://colab.research.google.com/github/keertanaganiga/Lockdown_coding/blob/master/25_oct_2020.ipynb\" target=\"_parent\"><img src=\"https://colab.research.google.com/assets/colab-badge.svg\" alt=\"Open In Colab\"/></a>"
      ]
    },
    {
      "cell_type": "code",
      "metadata": {
        "id": "qjFCT5va84tp",
        "outputId": "db12c7f4-1391-47bb-d562-f064ddd0eeae",
        "colab": {
          "base_uri": "https://localhost:8080/",
          "height": 50
        }
      },
      "source": [
        "'''\n",
        "You are given two numbers. Your task is to multiply the two numbers and print the answer.\n",
        "\n",
        "Input Description:\n",
        "You are given two numbers ‘n’ and ‘m’.\n",
        "\n",
        "Output Description:\n",
        "Print the multiplied answer\n",
        "\n",
        "Sample Input :\n",
        "99999 99998\n",
        "Sample Output :\n",
        "9999700002\n",
        "'''\n",
        "m,n=map(int,input().split())\n",
        "mul=m*n\n",
        "print(mul)"
      ],
      "execution_count": 1,
      "outputs": [
        {
          "output_type": "stream",
          "text": [
            "99999 99998\n",
            "9999700002\n"
          ],
          "name": "stdout"
        }
      ]
    },
    {
      "cell_type": "code",
      "metadata": {
        "id": "R8YQkZ9g_3d9",
        "outputId": "16fa8ec3-14f1-4956-fef7-b5a876f5a5b3",
        "colab": {
          "base_uri": "https://localhost:8080/",
          "height": 67
        }
      },
      "source": [
        "'''\n",
        "Given a string 'S' print the sum of weight of the String. A weight of character is defined as the ASCII value of corresponding character.\n",
        "\n",
        "Input Description:\n",
        "You are given a string ‘s’\n",
        "\n",
        "Output Description:\n",
        "Print weight\n",
        "\n",
        "Sample Input :\n",
        "abc\n",
        "Sample Output :\n",
        "294\n",
        "'''\n",
        "test_str = input()\n",
        "print(\"The original string is : \" + str(test_str)) \n",
        "sum_dict = {\"G\" : 5, \"e\" : 2, \"k\" : 10, \n",
        "            \"f\" : 3, \"s\" : 15, \"o\" : 4, \"r\" : 6} \n",
        "\n",
        "res = 0\n",
        "for ele in test_str: \n",
        "    res += sum_dict[ele] \n",
        "\n",
        "print(\"The weighted sum : \" + str(res))  "
      ],
      "execution_count": 3,
      "outputs": [
        {
          "output_type": "stream",
          "text": [
            "GeeksforGeeks\n",
            "The original string is : GeeksforGeeks\n",
            "The weighted sum : 81\n"
          ],
          "name": "stdout"
        }
      ]
    },
    {
      "cell_type": "code",
      "metadata": {
        "id": "RT9Wvy_fBOda",
        "outputId": "94c1611f-a3a2-491f-9634-f604268827e1",
        "colab": {
          "base_uri": "https://localhost:8080/",
          "height": 50
        }
      },
      "source": [
        "# Program to find the character from an input ASCII value\n",
        "\n",
        "# getting ASCII value from user\n",
        "num = int(input(\"Enter ASCII value: \"))\n",
        "print(chr(num))\n",
        "\n",
        "# ASCII value is given\n",
        "#num2 = 70\n",
        "#print(chr(num2))"
      ],
      "execution_count": 13,
      "outputs": [
        {
          "output_type": "stream",
          "text": [
            "Enter ASCII value: 66\n",
            "B\n"
          ],
          "name": "stdout"
        }
      ]
    }
  ]
}