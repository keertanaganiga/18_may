{
  "nbformat": 4,
  "nbformat_minor": 0,
  "metadata": {
    "colab": {
      "name": "26_oct_2020",
      "provenance": [],
      "authorship_tag": "ABX9TyMSWJ1YoNBnbCyQXg2w4+w7",
      "include_colab_link": true
    },
    "kernelspec": {
      "name": "python3",
      "display_name": "Python 3"
    }
  },
  "cells": [
    {
      "cell_type": "markdown",
      "metadata": {
        "id": "view-in-github",
        "colab_type": "text"
      },
      "source": [
        "<a href=\"https://colab.research.google.com/github/keertanaganiga/Lockdown_coding/blob/master/26_oct_2020.ipynb\" target=\"_parent\"><img src=\"https://colab.research.google.com/assets/colab-badge.svg\" alt=\"Open In Colab\"/></a>"
      ]
    },
    {
      "cell_type": "code",
      "metadata": {
        "id": "8zLlWpOTSbRM",
        "outputId": "a7e3203e-8170-4905-a84a-09bb3f0e7610",
        "colab": {
          "base_uri": "https://localhost:8080/",
          "height": 50
        }
      },
      "source": [
        "'''\n",
        "Radha newly learnt about palindromic strings.A palindromic string is a string which is same when read from left to right and also from right to left.Help her in implementing the logic.\n",
        "\n",
        " \n",
        "\n",
        "Input Description:\n",
        "You are given a String ‘s’\n",
        "\n",
        "Output Description:\n",
        "Print 1 if String is palindrome or 0 if not\n",
        "\n",
        "Sample Input :\n",
        "NITIN\n",
        "Sample Output :\n",
        "1\n",
        "'''\n",
        "s=input()\n",
        "s1=s[::-1]\n",
        "if s==s1:\n",
        "  print(\"1\")\n",
        "else:\n",
        "  print(\"0\")"
      ],
      "execution_count": 4,
      "outputs": [
        {
          "output_type": "stream",
          "text": [
            "nitin\n",
            "1\n"
          ],
          "name": "stdout"
        }
      ]
    }
  ]
}