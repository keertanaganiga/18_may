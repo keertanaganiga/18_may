{
  "nbformat": 4,
  "nbformat_minor": 0,
  "metadata": {
    "colab": {
      "name": "27 aug ",
      "provenance": [],
      "collapsed_sections": [],
      "authorship_tag": "ABX9TyMDn6Tg3IIK64Z8+0sNGyl+",
      "include_colab_link": true
    },
    "kernelspec": {
      "name": "python3",
      "display_name": "Python 3"
    }
  },
  "cells": [
    {
      "cell_type": "markdown",
      "metadata": {
        "id": "view-in-github",
        "colab_type": "text"
      },
      "source": [
        "<a href=\"https://colab.research.google.com/github/keertanaganiga/Lockdown_coding/blob/master/27_aug.ipynb\" target=\"_parent\"><img src=\"https://colab.research.google.com/assets/colab-badge.svg\" alt=\"Open In Colab\"/></a>"
      ]
    },
    {
      "cell_type": "code",
      "metadata": {
        "id": "epyloWt-bK3V",
        "colab_type": "code",
        "colab": {
          "base_uri": "https://localhost:8080/",
          "height": 52
        },
        "outputId": "8edf2466-552f-4189-bfd3-9a3485e7207d"
      },
      "source": [
        "P,T,R=map(float,input().split())\n",
        "\n",
        "SI= P*T*R/100\n",
        "print(round(SI, 2))"
      ],
      "execution_count": null,
      "outputs": [
        {
          "output_type": "stream",
          "text": [
            "1000 2 5\n",
            "100.0\n"
          ],
          "name": "stdout"
        }
      ]
    },
    {
      "cell_type": "code",
      "metadata": {
        "id": "TEzAl2wGL5uG",
        "colab_type": "code",
        "colab": {}
      },
      "source": [
        ""
      ],
      "execution_count": null,
      "outputs": []
    },
    {
      "cell_type": "code",
      "metadata": {
        "id": "2ab71DJOnons",
        "colab_type": "code",
        "colab": {}
      },
      "source": [
        ""
      ],
      "execution_count": null,
      "outputs": []
    },
    {
      "cell_type": "code",
      "metadata": {
        "id": "d1RbLxdRfIg9",
        "colab_type": "code",
        "colab": {
          "base_uri": "https://localhost:8080/",
          "height": 70
        },
        "outputId": "159e792b-c494-4025-c652-43a78c56da73"
      },
      "source": [
        "A=int(input())\n",
        "B=int(input())\n",
        "area=A*B \n",
        "print(area)"
      ],
      "execution_count": null,
      "outputs": [
        {
          "output_type": "stream",
          "text": [
            "2\n",
            "3\n",
            "6\n"
          ],
          "name": "stdout"
        }
      ]
    },
    {
      "cell_type": "code",
      "metadata": {
        "id": "nQhq_rFif_tw",
        "colab_type": "code",
        "colab": {
          "base_uri": "https://localhost:8080/",
          "height": 52
        },
        "outputId": "1cb02df1-4e57-43b9-9da4-599e7ceff529"
      },
      "source": [
        "def checkYear(year): \n",
        "    if (year % 4) == 0: \n",
        "        if (year % 100) == 0: \n",
        "            if (year % 400) == 0: \n",
        "                return True\n",
        "            else: \n",
        "                return False\n",
        "        else: \n",
        "             return True\n",
        "    else: \n",
        "        return False\n",
        "  \n",
        "# Driver Code  \n",
        "year = int(input())\n",
        "if(checkYear(year)): \n",
        "    print(\"Y\") \n",
        "else: \n",
        "    print(\"N\") "
      ],
      "execution_count": null,
      "outputs": [
        {
          "output_type": "stream",
          "text": [
            "2020\n",
            "Y\n"
          ],
          "name": "stdout"
        }
      ]
    },
    {
      "cell_type": "code",
      "metadata": {
        "id": "2y6YhGpvg1eg",
        "colab_type": "code",
        "colab": {
          "base_uri": "https://localhost:8080/",
          "height": 52
        },
        "outputId": "74b80870-6cbb-47ae-8dfb-314cccf8a95a"
      },
      "source": [
        "num1,num2=map(int,input().split())\n",
        "print(min(num1,num2))"
      ],
      "execution_count": null,
      "outputs": [
        {
          "output_type": "stream",
          "text": [
            "23 3\n",
            "3\n"
          ],
          "name": "stdout"
        }
      ]
    },
    {
      "cell_type": "code",
      "metadata": {
        "id": "TdqfAs_ohZY0",
        "colab_type": "code",
        "colab": {
          "base_uri": "https://localhost:8080/",
          "height": 52
        },
        "outputId": "3c701768-59fc-43eb-d31a-1263e8f0ed12"
      },
      "source": [
        "A=int(input())\n",
        "F=( (A*9)/5)+32\n",
        "print(round(F,2))"
      ],
      "execution_count": null,
      "outputs": [
        {
          "output_type": "stream",
          "text": [
            "12\n",
            "53.6\n"
          ],
          "name": "stdout"
        }
      ]
    },
    {
      "cell_type": "code",
      "metadata": {
        "id": "3e-4fVsliGv0",
        "colab_type": "code",
        "colab": {
          "base_uri": "https://localhost:8080/",
          "height": 52
        },
        "outputId": "f6d6722f-5f62-451e-d962-19fee36573e0"
      },
      "source": [
        "m=3\n",
        "n=int(input())\n",
        "a = range(n, (m * n)+1, n) \n",
        "print(*a)"
      ],
      "execution_count": null,
      "outputs": [
        {
          "output_type": "stream",
          "text": [
            "2\n",
            "2 4 6\n"
          ],
          "name": "stdout"
        }
      ]
    },
    {
      "cell_type": "code",
      "metadata": {
        "id": "qxXPCKEUjzlX",
        "colab_type": "code",
        "colab": {
          "base_uri": "https://localhost:8080/",
          "height": 88
        },
        "outputId": "78312496-2900-4fe2-beea-912c3aeba1ff"
      },
      "source": [
        "A=int(input())\n",
        "B=int(input())\n",
        "C=int(input())\n",
        "print(max(A,B,C))"
      ],
      "execution_count": null,
      "outputs": [
        {
          "output_type": "stream",
          "text": [
            "1\n",
            "2\n",
            "3\n",
            "3\n"
          ],
          "name": "stdout"
        }
      ]
    },
    {
      "cell_type": "code",
      "metadata": {
        "id": "8_NVfyVpnpoH",
        "colab_type": "code",
        "colab": {
          "base_uri": "https://localhost:8080/",
          "height": 124
        },
        "outputId": "4c23ebe4-bce2-4b36-fee3-ab9117a9fcc3"
      },
      "source": [
        "def binarySearch(arr, l, r, x): \n",
        "    if (r < l): \n",
        "        return -1\n",
        "    mid = int( l + (r - l) / 2) \n",
        "    if arr[mid] == x: \n",
        "        return mid \n",
        "    if arr[mid] > x: \n",
        "        return binarySearch(arr, l,  mid - 1, x) \n",
        "    return binarySearch(arr, mid + 1,r, x) \n",
        "def countOccurrences(arr, n, x): \n",
        "    ind = binarySearch(arr, 0, n - 1, x) \n",
        "    if ind == -1: \n",
        "        return -1\n",
        "    else:\n",
        "      count = 0\n",
        "      left = ind - 1\n",
        "      while (left >= 0 and arr[left] == x):\n",
        "        count += 1\n",
        "        left -= 1\n",
        "      right = ind + 1; \n",
        "      while (right < n and arr[right] == x): \n",
        "        count += 1\n",
        "        right += 1\n",
        "  \n",
        "    return count \n",
        "n,x=map(int,input().split())\n",
        "arr = [] \n",
        "for i in range(n):\n",
        "  ele=int(input())\n",
        "  arr.append(ele)\n",
        "\n",
        "print(countOccurrences(arr, n, x))"
      ],
      "execution_count": null,
      "outputs": [
        {
          "output_type": "stream",
          "text": [
            "4 4\n",
            "1\n",
            "3\n",
            "2\n",
            "3\n",
            "-1\n"
          ],
          "name": "stdout"
        }
      ]
    },
    {
      "cell_type": "code",
      "metadata": {
        "id": "Z3buVZx_BiRx",
        "colab_type": "code",
        "colab": {
          "base_uri": "https://localhost:8080/",
          "height": 35
        },
        "outputId": "cd19fbdf-12b0-4a28-f9c7-0c60f51cdefe"
      },
      "source": [
        "m,n=map(int,input().split())\n",
        "print(m**n)"
      ],
      "execution_count": null,
      "outputs": [
        {
          "output_type": "stream",
          "text": [
            "81\n"
          ],
          "name": "stdout"
        }
      ]
    },
    {
      "cell_type": "code",
      "metadata": {
        "id": "YMtaF5b1CyBT",
        "colab_type": "code",
        "colab": {
          "base_uri": "https://localhost:8080/",
          "height": 52
        },
        "outputId": "90319ec8-ae98-4610-883b-a47eb605f404"
      },
      "source": [
        "n=int(input())\n",
        "if(n>1 & n%n==0 ):\n",
        "  print('yes')\n",
        "else:\n",
        "  print(\"no\")"
      ],
      "execution_count": null,
      "outputs": [
        {
          "output_type": "stream",
          "text": [
            "109\n",
            "yes\n"
          ],
          "name": "stdout"
        }
      ]
    },
    {
      "cell_type": "code",
      "metadata": {
        "id": "gCQ_lMHBGl9O",
        "colab_type": "code",
        "colab": {
          "base_uri": "https://localhost:8080/",
          "height": 52
        },
        "outputId": "806853ca-6d0a-47a0-ddf4-ffb6fd781a4f"
      },
      "source": [
        "n=int(input())\n",
        "factor=0\n",
        "\n",
        "if n%i==0:\n",
        "    factor=i\n",
        "    if factor>1:\n",
        "      print ('Yes')\n",
        "      \n",
        "\n",
        "else:\n",
        "  print ('no')"
      ],
      "execution_count": null,
      "outputs": [
        {
          "output_type": "stream",
          "text": [
            "123\n",
            "no\n"
          ],
          "name": "stdout"
        }
      ]
    },
    {
      "cell_type": "code",
      "metadata": {
        "id": "dC7yILkfL63p",
        "colab_type": "code",
        "colab": {
          "base_uri": "https://localhost:8080/",
          "height": 106
        },
        "outputId": "982230d8-62da-4bd6-e78f-d349bf91622f"
      },
      "source": [
        "T=int(input())\n",
        "arr=[]\n",
        "for i in range(T):\n",
        "  ele=input()\n",
        "  print(ele[::-1])\n"
      ],
      "execution_count": null,
      "outputs": [
        {
          "output_type": "stream",
          "text": [
            "2\n",
            "ab\n",
            "ba\n",
            "aba\n",
            "aba\n"
          ],
          "name": "stdout"
        }
      ]
    }
  ]
}