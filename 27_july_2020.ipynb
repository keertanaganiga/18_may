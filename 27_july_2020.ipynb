{
  "nbformat": 4,
  "nbformat_minor": 0,
  "metadata": {
    "colab": {
      "name": "27 july 2020",
      "provenance": [],
      "authorship_tag": "ABX9TyMw9KNr0A/HdUfHPafLBi+1",
      "include_colab_link": true
    },
    "kernelspec": {
      "name": "python3",
      "display_name": "Python 3"
    }
  },
  "cells": [
    {
      "cell_type": "markdown",
      "metadata": {
        "id": "view-in-github",
        "colab_type": "text"
      },
      "source": [
        "<a href=\"https://colab.research.google.com/github/keertanaganiga/Lockdown_coding/blob/master/27_july_2020.ipynb\" target=\"_parent\"><img src=\"https://colab.research.google.com/assets/colab-badge.svg\" alt=\"Open In Colab\"/></a>"
      ]
    },
    {
      "cell_type": "code",
      "metadata": {
        "id": "vaub_I3xLHWl",
        "colab_type": "code",
        "colab": {
          "base_uri": "https://localhost:8080/",
          "height": 110
        },
        "outputId": "39418e48-aed1-407d-83d5-92eb2ae42dae"
      },
      "source": [
        "'''\n",
        "Input Format:\n",
        "The first line contains a single string denoting s.\n",
        "The second line contains an integer,k , denoting the length of each subsegment.\n",
        "\n",
        "Output Format:\n",
        "Print  lines where each line  contains string .\n",
        "\n",
        "Sample Input:\n",
        "AABCAAADA\n",
        "3\n",
        "\n",
        "Sample Output:\n",
        "AB\n",
        "CA\n",
        "AD\n",
        "'''\n",
        "def merge_the_tools(string, k):\n",
        "    num_subsegments = int(len(string) / k)\n",
        "    for index in range(num_subsegments):\n",
        "        t = string[index * k : (index + 1) * k]\n",
        "        u = \"\"\n",
        "        for c in t:\n",
        "            if c not in u:\n",
        "                u += c\n",
        "        print(u)\n",
        "    \n",
        "  \n",
        "if __name__ == '__main__':\n",
        "    string, k = input(), int(input())\n",
        "    merge_the_tools(string, k)"
      ],
      "execution_count": 3,
      "outputs": [
        {
          "output_type": "stream",
          "text": [
            "AABCAAADA \n",
            "3\n",
            "AB\n",
            "CA\n",
            "AD\n"
          ],
          "name": "stdout"
        }
      ]
    }
  ]
}