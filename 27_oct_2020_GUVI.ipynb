{
  "nbformat": 4,
  "nbformat_minor": 0,
  "metadata": {
    "colab": {
      "name": "27_oct_2020_GUVI",
      "provenance": [],
      "collapsed_sections": [],
      "authorship_tag": "ABX9TyOpFfoFoxdDLUuS9+Aq0dNB",
      "include_colab_link": true
    },
    "kernelspec": {
      "name": "python3",
      "display_name": "Python 3"
    }
  },
  "cells": [
    {
      "cell_type": "markdown",
      "metadata": {
        "id": "view-in-github",
        "colab_type": "text"
      },
      "source": [
        "<a href=\"https://colab.research.google.com/github/keertanaganiga/Lockdown_coding/blob/master/27_oct_2020_GUVI.ipynb\" target=\"_parent\"><img src=\"https://colab.research.google.com/assets/colab-badge.svg\" alt=\"Open In Colab\"/></a>"
      ]
    },
    {
      "cell_type": "code",
      "metadata": {
        "id": "AyYAu25OaGCG",
        "outputId": "5c937867-d216-4e08-b053-a6274bc1b022",
        "colab": {
          "base_uri": "https://localhost:8080/",
          "height": 34
        }
      },
      "source": [
        "t1=((0,1),(3,4))\n",
        "t2=((6,7),(7,8))\n",
        "\n",
        "l3=[]\n",
        "l1=list(t1)\n",
        "l2=list(t2)\n",
        "for i in range(len(t1)):\n",
        "  for j in range(len(t1[0])):\n",
        "    l3.append(l1[i][j]+l2[i][j])\n",
        "    t3=tuple(l3)\n",
        "print(t3)"
      ],
      "execution_count": 9,
      "outputs": [
        {
          "output_type": "stream",
          "text": [
            "(6, 8, 10, 12)\n"
          ],
          "name": "stdout"
        }
      ]
    },
    {
      "cell_type": "code",
      "metadata": {
        "id": "SYqIQAwrdDbu"
      },
      "source": [
        "s=input()\n",
        "for i in s:\n",
        "  l3=s[:len(s)]+\"h\"+\"j\"+[len(s):]\n",
        "print(l3)"
      ],
      "execution_count": null,
      "outputs": []
    }
  ]
}