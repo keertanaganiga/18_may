{
  "nbformat": 4,
  "nbformat_minor": 0,
  "metadata": {
    "colab": {
      "name": "29 july 2020",
      "provenance": [],
      "authorship_tag": "ABX9TyP6gcICopOkWedFIm0CyliP",
      "include_colab_link": true
    },
    "kernelspec": {
      "name": "python3",
      "display_name": "Python 3"
    }
  },
  "cells": [
    {
      "cell_type": "markdown",
      "metadata": {
        "id": "view-in-github",
        "colab_type": "text"
      },
      "source": [
        "<a href=\"https://colab.research.google.com/github/keertanaganiga/Lockdown_coding/blob/master/29_july_2020.ipynb\" target=\"_parent\"><img src=\"https://colab.research.google.com/assets/colab-badge.svg\" alt=\"Open In Colab\"/></a>"
      ]
    },
    {
      "cell_type": "code",
      "metadata": {
        "id": "UJ7qkW9vJ_1e",
        "colab_type": "code",
        "colab": {
          "base_uri": "https://localhost:8080/",
          "height": 70
        },
        "outputId": "94b85b7b-39c5-494e-db21-7e42d78b2cf9"
      },
      "source": [
        "'''\n",
        "In this challenge, the user enters a string and a substring. You have to print the number of times that the substring occurs in the given string. String traversal will take place from left to right, not from right to left.\n",
        "\n",
        "NOTE: String letters are case-sensitive.\n",
        "\n",
        "Input Format:\n",
        "The first line of input contains the original string. The next line contains the substring.\n",
        "\n",
        "Output Format:\n",
        "Output the integer number indicating the total number of occurrences of the substring in the original string.\n",
        "\n",
        "Sample Input:\n",
        "ABCDCDC\n",
        "CDC\n",
        "\n",
        "Sample Output:\n",
        "2\n",
        "'''\n",
        "def count_substring(string, sub_string):\n",
        "    c=0\n",
        "    for i in range(len(string)):\n",
        "        if string[i:].startswith(sub_string):\n",
        "            c =c+1\n",
        "    return c\n",
        "if __name__ == '__main__':\n",
        "    string = input().strip()\n",
        "    sub_string = input().strip()\n",
        "    \n",
        "    count = count_substring(string, sub_string)\n",
        "    print(count)"
      ],
      "execution_count": 5,
      "outputs": [
        {
          "output_type": "stream",
          "text": [
            "ABCDCDC\n",
            " CDC\n",
            "2\n"
          ],
          "name": "stdout"
        }
      ]
    }
  ]
}