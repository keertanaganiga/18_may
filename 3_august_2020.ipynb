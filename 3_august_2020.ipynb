{
  "nbformat": 4,
  "nbformat_minor": 0,
  "metadata": {
    "colab": {
      "name": "3 august 2020",
      "provenance": [],
      "authorship_tag": "ABX9TyP3nNATu1/VTVBd/XWR7Zct",
      "include_colab_link": true
    },
    "kernelspec": {
      "name": "python3",
      "display_name": "Python 3"
    }
  },
  "cells": [
    {
      "cell_type": "markdown",
      "metadata": {
        "id": "view-in-github",
        "colab_type": "text"
      },
      "source": [
        "<a href=\"https://colab.research.google.com/github/keertanaganiga/Lockdown_coding/blob/master/3_august_2020.ipynb\" target=\"_parent\"><img src=\"https://colab.research.google.com/assets/colab-badge.svg\" alt=\"Open In Colab\"/></a>"
      ]
    },
    {
      "cell_type": "code",
      "metadata": {
        "id": "uLeIo2yP0o-y",
        "colab_type": "code",
        "colab": {
          "base_uri": "https://localhost:8080/",
          "height": 54
        },
        "outputId": "2135e5dc-d5c0-4762-e4c4-4e9a683e6c78"
      },
      "source": [
        "'''\n",
        "Probably, you have already guessed that Benny doesn't like math at all. Especially, she is really bad at number theory.\n",
        "\n",
        "Little Benny wants you to answer one single questions that disturbs her every night.\n",
        "\n",
        "You will be given three integers: l, r, g. You have to output the number of pairs of integers x and y such that  and .\n",
        "\n",
        "Note that pairs  and  are different.\n",
        "\n",
        "Input format:\n",
        "The first line contains three integers l, r and g\n",
        "\n",
        "Output format:\n",
        "Output single integer: the answer to the problem.\n",
        "\n",
        "SAMPLE INPUT \n",
        "1 11 5\n",
        "SAMPLE OUTPUT \n",
        "3\n",
        "'''\n",
        "\n",
        "def gcd(a,b): \n",
        "\n",
        "\treturn gcd(b, a % b) if b>0 else a \n",
        "def countGCD(L,R,g): \n",
        "\tL = (L + g - 1) // g \n",
        "\tR = R// g \n",
        "\tans = 0\n",
        "\tfor i in range(L,R+1): \n",
        "\t\tfor j in range(L,R+1): \n",
        "\t\t\tif (gcd(i, j) == 1): \n",
        "\t\t\t\tans=ans +1\n",
        "\n",
        "\treturn ans \n",
        "L,R,g=map(int,input().split())\n",
        "\n",
        "print(countGCD(L, R, g)) \n"
      ],
      "execution_count": 1,
      "outputs": [
        {
          "output_type": "stream",
          "text": [
            "1 11 5\n",
            "3\n"
          ],
          "name": "stdout"
        }
      ]
    },
    {
      "cell_type": "code",
      "metadata": {
        "id": "qcHTjiSs2Xcj",
        "colab_type": "code",
        "colab": {}
      },
      "source": [
        ""
      ],
      "execution_count": null,
      "outputs": []
    }
  ]
}