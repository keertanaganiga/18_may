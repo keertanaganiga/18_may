{
  "nbformat": 4,
  "nbformat_minor": 0,
  "metadata": {
    "colab": {
      "name": "4_nov_ADP",
      "provenance": [],
      "authorship_tag": "ABX9TyPlA55/zxekfTSrOI4ivAST",
      "include_colab_link": true
    },
    "kernelspec": {
      "name": "python3",
      "display_name": "Python 3"
    }
  },
  "cells": [
    {
      "cell_type": "markdown",
      "metadata": {
        "id": "view-in-github",
        "colab_type": "text"
      },
      "source": [
        "<a href=\"https://colab.research.google.com/github/keertanaganiga/Lockdown_coding/blob/master/4_nov_ADP.ipynb\" target=\"_parent\"><img src=\"https://colab.research.google.com/assets/colab-badge.svg\" alt=\"Open In Colab\"/></a>"
      ]
    },
    {
      "cell_type": "code",
      "metadata": {
        "id": "SVuMPicXCWXf",
        "outputId": "cf6e2ba8-483c-45ce-eebf-c0ad8c6c2663",
        "colab": {
          "base_uri": "https://localhost:8080/"
        }
      },
      "source": [
        "'''\n",
        "write a python program to read a name and validate using appropriate function.\n",
        "If it is true read pan number,validate using appropriate function and display both name and pan number\n",
        "'''\n",
        "\n",
        "name=input()\n",
        "if(name.isalpha()):\n",
        "  pan=input()\n",
        "  if(pan.isalnum()):\n",
        "    print(\"pan number is:\", pan)\n",
        "    print(\"name is:\", name)\n",
        "  else:\n",
        "    print(\"pan number is not valid\")\n",
        "else:\n",
        "  print(\"name is not valid\")"
      ],
      "execution_count": 21,
      "outputs": [
        {
          "output_type": "stream",
          "text": [
            "keertana\n",
            "567CDGH7\n",
            "pan number is: 567CDGH7\n",
            "name is: keertana\n"
          ],
          "name": "stdout"
        }
      ]
    },
    {
      "cell_type": "code",
      "metadata": {
        "id": "7uryCjgyIpMY"
      },
      "source": [
        ""
      ],
      "execution_count": null,
      "outputs": []
    },
    {
      "cell_type": "code",
      "metadata": {
        "id": "icvZm4kcGy8I",
        "outputId": "6b8ab227-5d34-416e-8bc2-97f97f0cec60",
        "colab": {
          "base_uri": "https://localhost:8080/"
        }
      },
      "source": [
        "'''\n",
        "write a python program to read a string and a key value and convert the given string using cesear cipher method and display boyh original and encrypted string.\n",
        "'''\n",
        "os=input()\n",
        "k=int(input())\n",
        "for i in os:\n",
        "  es=ord(i)\n",
        "  print(chr(es+k),end='')\n"
      ],
      "execution_count": 18,
      "outputs": [
        {
          "output_type": "stream",
          "text": [
            "hai\n",
            "3\n",
            "kdl"
          ],
          "name": "stdout"
        }
      ]
    },
    {
      "cell_type": "code",
      "metadata": {
        "id": "RBwbAZ0MJFM9"
      },
      "source": [
        ""
      ],
      "execution_count": null,
      "outputs": []
    }
  ]
}