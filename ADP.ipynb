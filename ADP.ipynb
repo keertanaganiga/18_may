{
  "nbformat": 4,
  "nbformat_minor": 0,
  "metadata": {
    "colab": {
      "name": "ADP",
      "provenance": [],
      "authorship_tag": "ABX9TyPREYsjshzkbJpdXYLBdU//",
      "include_colab_link": true
    },
    "kernelspec": {
      "name": "python3",
      "display_name": "Python 3"
    }
  },
  "cells": [
    {
      "cell_type": "markdown",
      "metadata": {
        "id": "view-in-github",
        "colab_type": "text"
      },
      "source": [
        "<a href=\"https://colab.research.google.com/github/keertanaganiga/Lockdown_coding/blob/master/ADP.ipynb\" target=\"_parent\"><img src=\"https://colab.research.google.com/assets/colab-badge.svg\" alt=\"Open In Colab\"/></a>"
      ]
    },
    {
      "cell_type": "code",
      "metadata": {
        "id": "qm1r4JeM0XU9",
        "outputId": "6fad0b57-eabf-4951-9954-8a40374d3e99",
        "colab": {
          "base_uri": "https://localhost:8080/"
        }
      },
      "source": [
        "t1=(10,20)\n",
        "t2=(30,40)\n",
        "l=t1+t2\n",
        "print(l)\n",
        "t=()\n",
        "for i in range(0,max(len(t1),len(t2))):\n",
        "\te=sum(t1[i:i+1]+t2[i:i+1])\n",
        "\tt=t[:]+(e,)\n",
        "print(t)"
      ],
      "execution_count": 2,
      "outputs": [
        {
          "output_type": "stream",
          "text": [
            "(10, 20, 30, 40)\n",
            "(40, 60)\n"
          ],
          "name": "stdout"
        }
      ]
    },
    {
      "cell_type": "code",
      "metadata": {
        "id": "lrI9y4CI0jJb",
        "outputId": "b6850b04-c20a-46e2-9917-27bd89c1f641",
        "colab": {
          "base_uri": "https://localhost:8080/"
        }
      },
      "source": [
        "t=(10,20,-30,-40,50,60,-70,-80)\n",
        "l = list(t)\n",
        "t1=()\n",
        "for i in l:\n",
        "\tif i>=0:\n",
        "\t\tt1=t1[:]+(i,)\n",
        "print(t1)"
      ],
      "execution_count": 3,
      "outputs": [
        {
          "output_type": "stream",
          "text": [
            "(10, 20, 50, 60)\n"
          ],
          "name": "stdout"
        }
      ]
    }
  ]
}