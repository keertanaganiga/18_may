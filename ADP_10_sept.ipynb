{
  "nbformat": 4,
  "nbformat_minor": 0,
  "metadata": {
    "colab": {
      "name": "ADP_10_sept",
      "provenance": [],
      "authorship_tag": "ABX9TyPVCC2jPGi/tYDhWBq5UoeI",
      "include_colab_link": true
    },
    "kernelspec": {
      "name": "python3",
      "display_name": "Python 3"
    }
  },
  "cells": [
    {
      "cell_type": "markdown",
      "metadata": {
        "id": "view-in-github",
        "colab_type": "text"
      },
      "source": [
        "<a href=\"https://colab.research.google.com/github/keertanaganiga/Lockdown_coding/blob/master/ADP_10_sept.ipynb\" target=\"_parent\"><img src=\"https://colab.research.google.com/assets/colab-badge.svg\" alt=\"Open In Colab\"/></a>"
      ]
    },
    {
      "cell_type": "code",
      "metadata": {
        "id": "t8nlAgdqED0R",
        "colab_type": "code",
        "colab": {
          "base_uri": "https://localhost:8080/",
          "height": 101
        },
        "outputId": "46bcca5a-e38e-466a-8f78-a40db72327c6"
      },
      "source": [
        " '''\n",
        " \n",
        "1\n",
        "2 2\n",
        "3 3 3\n",
        "'''\n",
        "n=int(input())\n",
        "for i in range(n+1):\n",
        "    for j in range(i):\n",
        "        print (i, end=\" \")\n",
        "    print('')\n",
        "\n",
        "\n",
        "\n"
      ],
      "execution_count": 2,
      "outputs": [
        {
          "output_type": "stream",
          "text": [
            "3\n",
            "\n",
            "1 \n",
            "2 2 \n",
            "3 3 3 \n"
          ],
          "name": "stdout"
        }
      ]
    }
  ]
}