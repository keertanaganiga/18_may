{
  "nbformat": 4,
  "nbformat_minor": 0,
  "metadata": {
    "colab": {
      "name": "ADP_13_nov_2020",
      "provenance": [],
      "authorship_tag": "ABX9TyN8PXCZyZNdKGUBo3nNFl/V",
      "include_colab_link": true
    },
    "kernelspec": {
      "name": "python3",
      "display_name": "Python 3"
    }
  },
  "cells": [
    {
      "cell_type": "markdown",
      "metadata": {
        "id": "view-in-github",
        "colab_type": "text"
      },
      "source": [
        "<a href=\"https://colab.research.google.com/github/keertanaganiga/Lockdown_coding/blob/master/ADP_13_nov_2020.ipynb\" target=\"_parent\"><img src=\"https://colab.research.google.com/assets/colab-badge.svg\" alt=\"Open In Colab\"/></a>"
      ]
    },
    {
      "cell_type": "code",
      "metadata": {
        "id": "XDxd4MplyaMd",
        "outputId": "f2010ee4-6f58-4483-e78e-1d83c26380a8",
        "colab": {
          "base_uri": "https://localhost:8080/"
        }
      },
      "source": [
        "'''\n",
        "write a python program to tread a sentence from the user and count the number of characters in the string and store them in the dictionary\n",
        "'''\n",
        "s=input()\n",
        "d={}\n",
        "length=len(s)\n",
        "d['char']=length\n",
        "print(d)"
      ],
      "execution_count": 1,
      "outputs": [
        {
          "output_type": "stream",
          "text": [
            "Kim teahyung\n",
            "{'char': 12}\n"
          ],
          "name": "stdout"
        }
      ]
    },
    {
      "cell_type": "code",
      "metadata": {
        "id": "PC2dlUCmzJf-",
        "outputId": "a9fab2f4-4a85-417a-fa71-cec7760a10df",
        "colab": {
          "base_uri": "https://localhost:8080/"
        }
      },
      "source": [
        "'''\n",
        "write a python program to read a string  and count the and build a dictionaries of keys as character and values must be the number of times the character occures the the string\n",
        "'''\n",
        "s=input()\n",
        "d={}\n",
        "for i in s:\n",
        "  d[i]=s.count(i)\n",
        "print(d)"
      ],
      "execution_count": 3,
      "outputs": [
        {
          "output_type": "stream",
          "text": [
            "kim taehyung\n",
            "{'k': 1, 'i': 1, 'm': 1, ' ': 1, 't': 1, 'a': 1, 'e': 1, 'h': 1, 'y': 1, 'u': 1, 'n': 1, 'g': 1}\n"
          ],
          "name": "stdout"
        }
      ]
    },
    {
      "cell_type": "code",
      "metadata": {
        "id": "5OX7bm0P0e3R",
        "outputId": "d910a76c-eb6e-4727-ef73-77691c47c9db",
        "colab": {
          "base_uri": "https://localhost:8080/"
        }
      },
      "source": [
        "'''\n",
        "write a python program to combine two list into a dictionary\n",
        "'''\n",
        "l1=['name','usn','marks']\n",
        "l2=['jungkook','4al18cs036','100']\n",
        "x=dict(zip(l1,l2))\n",
        "print(x)"
      ],
      "execution_count": 17,
      "outputs": [
        {
          "output_type": "stream",
          "text": [
            "{'name': 'jungkook', 'usn': '4al18cs036', 'marks': '100'}\n"
          ],
          "name": "stdout"
        }
      ]
    },
    {
      "cell_type": "code",
      "metadata": {
        "id": "p0g62AwW1bJO",
        "outputId": "9c0340e1-2af3-44fa-ef1f-6fb7768ff355",
        "colab": {
          "base_uri": "https://localhost:8080/"
        }
      },
      "source": [
        "'''\n",
        "write a python program read a string and build a dictionary with the keys letter,digit,uppercase,lowercase and their count in the respective keys\n",
        "'''\n",
        "s=input()\n",
        "d={}\n",
        "count=0\n",
        "count1=0\n",
        "count2=0\n",
        "count3=0\n",
        "for i in s:\n",
        "  if i.isalpha():\n",
        "    count=count+1\n",
        "  if i.isdigit():\n",
        "    count1=count1+1\n",
        "  if i.isupper():\n",
        "    count2=count2+1\n",
        "  if i.islower():\n",
        "    count3=count3+1\n",
        "d['letter']=count\n",
        "d['digit']=count1\n",
        "d['uppercase letter']=count2\n",
        "d['lowercase letter']=count3\n",
        "print(d)"
      ],
      "execution_count": 21,
      "outputs": [
        {
          "output_type": "stream",
          "text": [
            "Kim Taehyung 8\n",
            "{'letter': 11, 'digit': 1, 'uppercase letter': 2, 'lowercase letter': 9}\n"
          ],
          "name": "stdout"
        }
      ]
    },
    {
      "cell_type": "code",
      "metadata": {
        "id": "wFdmCPn-4UKB",
        "outputId": "59e53f94-c266-44e4-aeca-f73ef05b68aa",
        "colab": {
          "base_uri": "https://localhost:8080/"
        }
      },
      "source": [
        "'''\n",
        "write a python program that inverts a dictionary \n",
        "'''\n",
        "d={'name':'abc','usn':'409df'}\n",
        "d1={}\n",
        "for i in d:\n",
        "  d1[d[i]]=i\n",
        "print(d1)"
      ],
      "execution_count": 11,
      "outputs": [
        {
          "output_type": "stream",
          "text": [
            "{'abc': 'name', '409df': 'usn'}\n"
          ],
          "name": "stdout"
        }
      ]
    }
  ]
}