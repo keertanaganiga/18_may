{
  "nbformat": 4,
  "nbformat_minor": 0,
  "metadata": {
    "colab": {
      "name": "ADP_23_nov_2020",
      "provenance": [],
      "authorship_tag": "ABX9TyP83cRNVuansrjyV25MOykH",
      "include_colab_link": true
    },
    "kernelspec": {
      "name": "python3",
      "display_name": "Python 3"
    }
  },
  "cells": [
    {
      "cell_type": "markdown",
      "metadata": {
        "id": "view-in-github",
        "colab_type": "text"
      },
      "source": [
        "<a href=\"https://colab.research.google.com/github/keertanaganiga/Lockdown_coding/blob/master/ADP_23_nov_2020.ipynb\" target=\"_parent\"><img src=\"https://colab.research.google.com/assets/colab-badge.svg\" alt=\"Open In Colab\"/></a>"
      ]
    },
    {
      "cell_type": "code",
      "metadata": {
        "colab": {
          "base_uri": "https://localhost:8080/"
        },
        "id": "14woVS8XUBkY",
        "outputId": "250d9fcf-5b6f-4656-ae1c-3ca97a33b512"
      },
      "source": [
        "import re\n",
        "s='welcome to python'\n",
        "p='welcome'\n",
        "text=re.match(p,s)\n",
        "if(text):\n",
        "  print(\"The pattern exist\")\n",
        "else:\n",
        "  print(\"The pattern doen't exist\")\n"
      ],
      "execution_count": 5,
      "outputs": [
        {
          "output_type": "stream",
          "text": [
            "The pattern exit\n"
          ],
          "name": "stdout"
        }
      ]
    },
    {
      "cell_type": "code",
      "metadata": {
        "colab": {
          "base_uri": "https://localhost:8080/"
        },
        "id": "Uv5b7gHbQUlX",
        "outputId": "5053ee48-860e-4e9b-cfae-82dec0d2be93"
      },
      "source": [
        "import re\n",
        "s='welcome to python'\n",
        "p='python'\n",
        "text=re.search(p,s)\n",
        "if(text):\n",
        "  print('The pattern exist')\n",
        "else:\n",
        "  print('the pattern does not exist')"
      ],
      "execution_count": 10,
      "outputs": [
        {
          "output_type": "stream",
          "text": [
            "The pattern exist\n"
          ],
          "name": "stdout"
        }
      ]
    }
  ]
}