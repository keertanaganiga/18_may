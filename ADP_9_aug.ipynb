{
  "nbformat": 4,
  "nbformat_minor": 0,
  "metadata": {
    "colab": {
      "name": "ADP_9_aug",
      "provenance": [],
      "collapsed_sections": [],
      "authorship_tag": "ABX9TyMvwZM+KQY/TlxCNmVe7irV",
      "include_colab_link": true
    },
    "kernelspec": {
      "name": "python3",
      "display_name": "Python 3"
    }
  },
  "cells": [
    {
      "cell_type": "markdown",
      "metadata": {
        "id": "view-in-github",
        "colab_type": "text"
      },
      "source": [
        "<a href=\"https://colab.research.google.com/github/keertanaganiga/Lockdown_coding/blob/master/ADP_9_aug.ipynb\" target=\"_parent\"><img src=\"https://colab.research.google.com/assets/colab-badge.svg\" alt=\"Open In Colab\"/></a>"
      ]
    },
    {
      "cell_type": "code",
      "metadata": {
        "id": "2kQ-MOrJkzJb",
        "colab_type": "code",
        "colab": {
          "base_uri": "https://localhost:8080/",
          "height": 52
        },
        "outputId": "dacc8dc7-fe07-4a2b-df7b-da4bb6588a72"
      },
      "source": [
        "'''1/1^6 +1/2^6 +1/3^6+....1/n^6\n",
        "'''\n",
        "n=int(input())\n",
        "sum=0.0\n",
        "for i in range(1,n+1):\n",
        "  K=1/(i**6)\n",
        "  sum=sum+K\n",
        "print('Sum of series =',sum)\n",
        "\n"
      ],
      "execution_count": 1,
      "outputs": [
        {
          "output_type": "stream",
          "text": [
            "5\n",
            "Sum of series = 1.0173048827374829\n"
          ],
          "name": "stdout"
        }
      ]
    },
    {
      "cell_type": "code",
      "metadata": {
        "id": "7clvrC8AtDkh",
        "colab_type": "code",
        "colab": {
          "base_uri": "https://localhost:8080/",
          "height": 550
        },
        "outputId": "14ffcb0d-2767-4446-e05b-967be0629c18"
      },
      "source": [
        "print (\"Enter start year\")\n",
        "startYear = int(input())\n",
        "print (\"Enter last year\")\n",
        "endYear = int(input())\n",
        " \n",
        "print (\"List of leap years:\")\n",
        "\n",
        "for year in range(startYear, endYear+1):\n",
        "  if (0 == year % 4) and (0 != year % 100) or (0 == year % 400):\n",
        "    print (year)\n"
      ],
      "execution_count": null,
      "outputs": [
        {
          "output_type": "stream",
          "text": [
            "Enter start year\n",
            "1900\n",
            "Enter last year\n",
            "2000\n",
            "List of leap years:\n",
            "1904\n",
            "1908\n",
            "1912\n",
            "1916\n",
            "1920\n",
            "1924\n",
            "1928\n",
            "1932\n",
            "1936\n",
            "1940\n",
            "1944\n",
            "1948\n",
            "1952\n",
            "1956\n",
            "1960\n",
            "1964\n",
            "1968\n",
            "1972\n",
            "1976\n",
            "1980\n",
            "1984\n",
            "1988\n",
            "1992\n",
            "1996\n",
            "2000\n"
          ],
          "name": "stdout"
        }
      ]
    },
    {
      "cell_type": "code",
      "metadata": {
        "id": "QTfoPyAFujwj",
        "colab_type": "code",
        "colab": {
          "base_uri": "https://localhost:8080/",
          "height": 52
        },
        "outputId": "a7e12b60-43aa-42a4-d328-12d7470409e5"
      },
      "source": [
        "year =int(input())\n",
        "\n",
        "if (year % 4) == 0:\n",
        "   if (year % 100) == 0:\n",
        "       if (year % 400) == 0:\n",
        "           print(\"{0} is a leap year\".format(year))\n",
        "       else:\n",
        "           print(\"{0} is not a leap year\".format(year))\n",
        "   else:\n",
        "       print(\"{0} is a leap year\".format(year))\n",
        "else:\n",
        "   print(\"{0} is not a leap year\".format(year))"
      ],
      "execution_count": null,
      "outputs": [
        {
          "output_type": "stream",
          "text": [
            "2000\n",
            "2000 is a leap year\n"
          ],
          "name": "stdout"
        }
      ]
    }
  ]
}