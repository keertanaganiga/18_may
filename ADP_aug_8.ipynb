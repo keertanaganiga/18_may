{
  "nbformat": 4,
  "nbformat_minor": 0,
  "metadata": {
    "colab": {
      "name": "ADP_aug_8",
      "provenance": [],
      "authorship_tag": "ABX9TyO8XGHmZq2BMTRZ4UGaQDNv",
      "include_colab_link": true
    },
    "kernelspec": {
      "name": "python3",
      "display_name": "Python 3"
    }
  },
  "cells": [
    {
      "cell_type": "markdown",
      "metadata": {
        "id": "view-in-github",
        "colab_type": "text"
      },
      "source": [
        "<a href=\"https://colab.research.google.com/github/keertanaganiga/Lockdown_coding/blob/master/ADP_aug_8.ipynb\" target=\"_parent\"><img src=\"https://colab.research.google.com/assets/colab-badge.svg\" alt=\"Open In Colab\"/></a>"
      ]
    },
    {
      "cell_type": "code",
      "metadata": {
        "id": "TdP5CQe6BqT0",
        "colab_type": "code",
        "colab": {
          "base_uri": "https://localhost:8080/",
          "height": 141
        },
        "outputId": "2a55260d-bc5c-47d1-97a8-14b6ef5d28bd"
      },
      "source": [
        "\n",
        "print(\"Enter marks obtained in 5 subjects: \");\n",
        "\n",
        "mark1 = int(input());\n",
        "mark2 = int(input());\n",
        "mark3 = int(input());\n",
        "mark4 = int(input());\n",
        "mark5 = int(input());\n",
        "sum = mark1 + mark2 + mark3 + mark4 + mark5;\n",
        "average = sum/5;\n",
        "if(average>=91 and average<=100):\n",
        "    \tprint(\"Grade is A+\");\n",
        "elif(average>=81 and average<=90):\n",
        "    \tprint(\" Grade is A\");\n",
        "elif(average>=71 and average<=80):\n",
        "    \tprint(\"Grade is B+\");\n",
        "elif(average>=61 and average<=70):\n",
        "    \tprint(\" Grade is B\");\n",
        "elif(average>=51 and average<=60):\n",
        "    \tprint(\"Grade is C+\");\n",
        "elif(average>=41 and average<=50):\n",
        "    \tprint(\"Grade is C\"); \n",
        "\n",
        "    \n",
        "else:\n",
        "    \tprint(\" Grade is F\");"
      ],
      "execution_count": 2,
      "outputs": [
        {
          "output_type": "stream",
          "text": [
            "Enter marks obtained in 5 subjects: \n",
            "78\n",
            "98\n",
            "56\n",
            "45\n",
            "36\n",
            " Grade is B\n"
          ],
          "name": "stdout"
        }
      ]
    },
    {
      "cell_type": "code",
      "metadata": {
        "id": "FpNo9N0DEZA6",
        "colab_type": "code",
        "colab": {
          "base_uri": "https://localhost:8080/",
          "height": 52
        },
        "outputId": "74a26b22-2d12-4ea0-e06a-1eb59024ef0f"
      },
      "source": [
        "num=int(input(\"Enter a number:\"))\n",
        "temp=num\n",
        "rev=0\n",
        "while(num>0):\n",
        "    dig=num%10\n",
        "    rev=rev*10+dig\n",
        "    num=num//10\n",
        "if(temp==rev):\n",
        "    print(\"The number is palindrome!\")\n",
        "else:\n",
        "    print(\"Not a palindrome!\")"
      ],
      "execution_count": 3,
      "outputs": [
        {
          "output_type": "stream",
          "text": [
            "Enter a number:1221\n",
            "The number is palindrome!\n"
          ],
          "name": "stdout"
        }
      ]
    }
  ]
}