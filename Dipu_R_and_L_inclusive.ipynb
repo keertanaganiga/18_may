{
  "nbformat": 4,
  "nbformat_minor": 0,
  "metadata": {
    "colab": {
      "name": "Dipu_R_and_L_inclusive",
      "provenance": [],
      "authorship_tag": "ABX9TyNG2jeCcCYguiftwl5s/k3o",
      "include_colab_link": true
    },
    "kernelspec": {
      "name": "python3",
      "display_name": "Python 3"
    }
  },
  "cells": [
    {
      "cell_type": "markdown",
      "metadata": {
        "id": "view-in-github",
        "colab_type": "text"
      },
      "source": [
        "<a href=\"https://colab.research.google.com/github/keertanaganiga/Lockdown_coding/blob/master/Dipu_R_and_L_inclusive.ipynb\" target=\"_parent\"><img src=\"https://colab.research.google.com/assets/colab-badge.svg\" alt=\"Open In Colab\"/></a>"
      ]
    },
    {
      "cell_type": "code",
      "metadata": {
        "id": "QvE88RZRICam",
        "colab_type": "code",
        "colab": {
          "base_uri": "https://localhost:8080/",
          "height": 106
        },
        "outputId": "c5888c20-fbec-4cd8-d661-7178d81000e7"
      },
      "source": [
        "'''\n",
        "Little Dipu is a small kid and like all the other kids, he likes to play, but he plays with numbers (He is extraordinary you know). Now-a-days Dipu has some extra interest in odd numbers. So, he says that a number N is interesting if it has odd number of divisors. Now Dipu turns to you and asks you to tell him how many interesting numbers are there between two given numbers, L and R (both inclusive).\n",
        "\n",
        "Input\n",
        "First line of input contains the number of test cases T. Each of the next T lines contains two space separated integers L and R.\n",
        "Output\n",
        "For each test case, output an integer, denoting the count of interesting numbers between L and R (both inclusive).\n",
        "Constraints\n",
        "1 <= T <= 100000\n",
        "1 <= L <= R <= 1018\n",
        "SAMPLE INPUT \n",
        "2\n",
        "1 3\n",
        "6 10\n",
        "SAMPLE OUTPUT \n",
        "1\n",
        "1\n",
        "'''\n",
        "\n",
        "import math\n",
        "for _ in range(int(input())):\n",
        "    l,r=map(int,input().split())\n",
        "    ans=0\n",
        "    a=int(math.sqrt(l))\n",
        "    if a*a==l:\n",
        "        ans+=1\n",
        "    b=int(math.sqrt(r))\n",
        "    if(b*b>r):\n",
        "        ans-=1\n",
        "    ans+=b-a\n",
        "    print(ans)"
      ],
      "execution_count": 1,
      "outputs": [
        {
          "output_type": "stream",
          "text": [
            "2\n",
            "1 3\n",
            "1\n",
            "6 10\n",
            "1\n"
          ],
          "name": "stdout"
        }
      ]
    }
  ]
}