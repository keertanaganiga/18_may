{
  "nbformat": 4,
  "nbformat_minor": 0,
  "metadata": {
    "colab": {
      "name": "GUVI_09_10_2020",
      "provenance": [],
      "authorship_tag": "ABX9TyPb0X9KfGPXO8DLbaLRYm6b",
      "include_colab_link": true
    },
    "kernelspec": {
      "name": "python3",
      "display_name": "Python 3"
    }
  },
  "cells": [
    {
      "cell_type": "markdown",
      "metadata": {
        "id": "view-in-github",
        "colab_type": "text"
      },
      "source": [
        "<a href=\"https://colab.research.google.com/github/keertanaganiga/Lockdown_coding/blob/master/GUVI_09_10_2020.ipynb\" target=\"_parent\"><img src=\"https://colab.research.google.com/assets/colab-badge.svg\" alt=\"Open In Colab\"/></a>"
      ]
    },
    {
      "cell_type": "code",
      "metadata": {
        "id": "sg7qs4GgN0JR",
        "outputId": "6ed445ea-2d43-4734-ddb1-76da93be0e60",
        "colab": {
          "base_uri": "https://localhost:8080/",
          "height": 50
        }
      },
      "source": [
        "'''\n",
        "Given 2 numbers N,M. Print 'yes' if their product is a perfect square else print 'no'.\n",
        "Sample Testcase :\n",
        "INPUT\n",
        "5 5\n",
        "OUTPUT\n",
        "yes\n",
        "'''\n",
        "import math\n",
        "m,n=map(int,input().split())\n",
        "\n",
        "product=m*n\n",
        "root = math.sqrt(product)\n",
        "if int(root + 0.5) ** 2 == product:\n",
        "  print(\"yes\")\n",
        "else:\n",
        "  print(\"no\")\n",
        "\n"
      ],
      "execution_count": 3,
      "outputs": [
        {
          "output_type": "stream",
          "text": [
            "5 6\n",
            "no\n"
          ],
          "name": "stdout"
        }
      ]
    }
  ]
}