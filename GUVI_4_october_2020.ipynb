{
  "nbformat": 4,
  "nbformat_minor": 0,
  "metadata": {
    "colab": {
      "name": "GUVI_4_october_2020",
      "provenance": [],
      "authorship_tag": "ABX9TyOfChGVv6Lpf082OhOPTfVg",
      "include_colab_link": true
    },
    "kernelspec": {
      "name": "python3",
      "display_name": "Python 3"
    }
  },
  "cells": [
    {
      "cell_type": "markdown",
      "metadata": {
        "id": "view-in-github",
        "colab_type": "text"
      },
      "source": [
        "<a href=\"https://colab.research.google.com/github/keertanaganiga/Lockdown_coding/blob/master/GUVI_4_october_2020.ipynb\" target=\"_parent\"><img src=\"https://colab.research.google.com/assets/colab-badge.svg\" alt=\"Open In Colab\"/></a>"
      ]
    },
    {
      "cell_type": "code",
      "metadata": {
        "id": "4qEgqO8DusYi",
        "outputId": "5e5663ba-7376-43ea-df1b-c0960c0a6790",
        "colab": {
          "base_uri": "https://localhost:8080/",
          "height": 50
        }
      },
      "source": [
        "'''\n",
        "Given 2 numbers a and B.Print the value of a!/b!.\n",
        "Input Size : A,B <= 10000 and A-B <= 5\n",
        "Sample Testcase :\n",
        "INPUT\n",
        "4 2\n",
        "OUTPUT\n",
        "12\n",
        "'''\n",
        "\n",
        "A,B=map(int,input().split())\n",
        "def fact(n):\n",
        "  factorial=1\n",
        "  for i in range (1,int(n)+1):\n",
        "    factorial = factorial * i\n",
        "  return factorial\n",
        "answer=fact(A)/fact(B)\n",
        "print(int(answer))"
      ],
      "execution_count": 5,
      "outputs": [
        {
          "output_type": "stream",
          "text": [
            "4 2\n",
            "12\n"
          ],
          "name": "stdout"
        }
      ]
    }
  ]
}