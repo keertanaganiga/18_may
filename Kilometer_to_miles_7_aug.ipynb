{
  "nbformat": 4,
  "nbformat_minor": 0,
  "metadata": {
    "colab": {
      "name": "Kilometer_to_miles_7 aug",
      "provenance": [],
      "collapsed_sections": [],
      "authorship_tag": "ABX9TyMPaRuOmuIKPDJtLkDbn2vF",
      "include_colab_link": true
    },
    "kernelspec": {
      "name": "python3",
      "display_name": "Python 3"
    }
  },
  "cells": [
    {
      "cell_type": "markdown",
      "metadata": {
        "id": "view-in-github",
        "colab_type": "text"
      },
      "source": [
        "<a href=\"https://colab.research.google.com/github/keertanaganiga/Lockdown_coding/blob/master/Kilometer_to_miles_7_aug.ipynb\" target=\"_parent\"><img src=\"https://colab.research.google.com/assets/colab-badge.svg\" alt=\"Open In Colab\"/></a>"
      ]
    },
    {
      "cell_type": "code",
      "metadata": {
        "id": "kt4AbhUsAqe4",
        "colab_type": "code",
        "colab": {
          "base_uri": "https://localhost:8080/",
          "height": 52
        },
        "outputId": "03e81e48-4e77-4456-c3bb-4b530c0ecd0d"
      },
      "source": [
        "\n",
        "kilometers = float(input(\"Enter value in kilometers: \"))\n",
        "\n",
        "\n",
        "conv_fac = 0.621371\n",
        "\n",
        "miles = kilometers * conv_fac\n",
        "print('%0.2f kilometers is equal to %0.2f miles' %(kilometers,miles))"
      ],
      "execution_count": 3,
      "outputs": [
        {
          "output_type": "stream",
          "text": [
            "Enter value in kilometers: 789.1\n",
            "789.10 kilometers is equal to 490.32 miles\n"
          ],
          "name": "stdout"
        }
      ]
    }
  ]
}