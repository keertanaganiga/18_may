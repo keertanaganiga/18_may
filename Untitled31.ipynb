{
  "nbformat": 4,
  "nbformat_minor": 0,
  "metadata": {
    "colab": {
      "name": "Untitled31.ipynb",
      "provenance": [],
      "authorship_tag": "ABX9TyOwilm7wPOutBWAa5+N3Vii",
      "include_colab_link": true
    },
    "kernelspec": {
      "name": "python3",
      "display_name": "Python 3"
    }
  },
  "cells": [
    {
      "cell_type": "markdown",
      "metadata": {
        "id": "view-in-github",
        "colab_type": "text"
      },
      "source": [
        "<a href=\"https://colab.research.google.com/github/keertanaganiga/Lockdown_coding/blob/master/Untitled31.ipynb\" target=\"_parent\"><img src=\"https://colab.research.google.com/assets/colab-badge.svg\" alt=\"Open In Colab\"/></a>"
      ]
    },
    {
      "cell_type": "code",
      "metadata": {
        "id": "6bLdE2syhXZO",
        "colab_type": "code",
        "colab": {
          "base_uri": "https://localhost:8080/",
          "height": 88
        },
        "outputId": "2e5b3360-bd8e-47ed-b4ca-e59b6fbd47c7"
      },
      "source": [
        "'''\n",
        "Today Omar has assignment problems from his math professor. Yes, Omar has infinite number of questions that he must solve today. The first problem went something like this.\n",
        "\n",
        "Given N integers in the form of  where , Omar wants to make each number  in the N numbers equal to M. To convert a number  to M, it will cost  units. The problem asks to find out the minimum cost to convert all the N numbers to M, so you should choose the best M to get the minimum cost.\n",
        "\n",
        "Omar gets bored easily from these kind of questions, can you solve it for him ?\n",
        "\n",
        "Input:\n",
        "\n",
        "First line of the input contains an integer T denoting the number of test cases.\n",
        "First line of every test-case contains an integer N.\n",
        "Second line of every test case contains N space separated integers .\n",
        "\n",
        "Output:\n",
        "\n",
        "For each case, print the minimum cost that Omar needs to pay to convert each  to M, in a separate line.\n",
        "\n",
        "Constraints:\n",
        ".\n",
        ".\n",
        "SAMPLE INPUT \n",
        "1\n",
        "4\n",
        "1 2 4 5\n",
        "SAMPLE OUTPUT \n",
        "6\n",
        "'''\n",
        "\n",
        "t = int(input())\n",
        "for _ in range(t):\n",
        "    n = int(input())\n",
        "    a = [int(x) for x in input().split()]\n",
        "    a.sort()\n",
        "    m = None\n",
        "    if len(a) % 2 == 1:\n",
        "        m = a[len(a)//2]\n",
        "    else:\n",
        "        m =( a[len(a)//2 -1] + a[len(a)//2] )//2\n",
        "    c = sum([abs(x - m) for x in a])\n",
        "    print(c)"
      ],
      "execution_count": 1,
      "outputs": [
        {
          "output_type": "stream",
          "text": [
            "1\n",
            "4\n",
            "1 2 4 5\n",
            "6\n"
          ],
          "name": "stdout"
        }
      ]
    }
  ]
}