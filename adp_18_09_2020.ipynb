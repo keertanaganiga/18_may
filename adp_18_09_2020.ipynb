{
  "nbformat": 4,
  "nbformat_minor": 0,
  "metadata": {
    "colab": {
      "name": "adp_18_09_2020",
      "provenance": [],
      "authorship_tag": "ABX9TyNu+lTDWO72WAqrVdfAktNE",
      "include_colab_link": true
    },
    "kernelspec": {
      "name": "python3",
      "display_name": "Python 3"
    }
  },
  "cells": [
    {
      "cell_type": "markdown",
      "metadata": {
        "id": "view-in-github",
        "colab_type": "text"
      },
      "source": [
        "<a href=\"https://colab.research.google.com/github/keertanaganiga/Lockdown_coding/blob/master/adp_18_09_2020.ipynb\" target=\"_parent\"><img src=\"https://colab.research.google.com/assets/colab-badge.svg\" alt=\"Open In Colab\"/></a>"
      ]
    },
    {
      "cell_type": "code",
      "metadata": {
        "id": "ASc264t9vxLP",
        "colab_type": "code",
        "colab": {
          "base_uri": "https://localhost:8080/",
          "height": 34
        },
        "outputId": "45a1a5e2-9233-48f3-9581-621e3079b5c1"
      },
      "source": [
        "'''\n",
        "write a program to add two numbers and to subtract two numbers and also find the smallest among them using lambda function\n",
        "'''\n",
        "sum=lambda a,b:a+b\n",
        "sub=lambda a,b:a-b\n",
        "print(min(sum(10,3),sub(8,4)))"
      ],
      "execution_count": 4,
      "outputs": [
        {
          "output_type": "stream",
          "text": [
            "4\n"
          ],
          "name": "stdout"
        }
      ]
    },
    {
      "cell_type": "code",
      "metadata": {
        "id": "_LTcp87yxn3_",
        "colab_type": "code",
        "colab": {
          "base_uri": "https://localhost:8080/",
          "height": 34
        },
        "outputId": "a2a3aaeb-cbf6-4acc-9ccd-1d90057b1d3d"
      },
      "source": [
        "'''\n",
        "write a program to add two numbers and to subtract two numbers and also find the smallest among them using lambda function with in an ordinary function.\n",
        "'''\n",
        "def sum(x,y):\n",
        "  return(lambda a,b:a+b)(x,y)\n",
        "def sub(x,y):\n",
        "  return(lambda a,b:a-b)(x,y)\n",
        "\n",
        "S=sum(10,3)\n",
        "S1=sub(8,4)\n",
        "print(min(S,S1))"
      ],
      "execution_count": 5,
      "outputs": [
        {
          "output_type": "stream",
          "text": [
            "4\n"
          ],
          "name": "stdout"
        }
      ]
    }
  ]
}