{
  "nbformat": 4,
  "nbformat_minor": 0,
  "metadata": {
    "colab": {
      "name": "list_grouping_4_aug",
      "provenance": [],
      "authorship_tag": "ABX9TyN/Hjhu4VBCeTodTZaHqIMt",
      "include_colab_link": true
    },
    "kernelspec": {
      "name": "python3",
      "display_name": "Python 3"
    }
  },
  "cells": [
    {
      "cell_type": "markdown",
      "metadata": {
        "id": "view-in-github",
        "colab_type": "text"
      },
      "source": [
        "<a href=\"https://colab.research.google.com/github/keertanaganiga/Lockdown_coding/blob/master/list_grouping_4_aug.ipynb\" target=\"_parent\"><img src=\"https://colab.research.google.com/assets/colab-badge.svg\" alt=\"Open In Colab\"/></a>"
      ]
    },
    {
      "cell_type": "code",
      "metadata": {
        "id": "GuT9JwoGu_j6",
        "colab_type": "code",
        "colab": {
          "base_uri": "https://localhost:8080/",
          "height": 212
        },
        "outputId": "5139f8e8-78fb-46db-eb9f-ce87acc76376"
      },
      "source": [
        "from itertools import combinations \n",
        "  \n",
        "def rSubset(arr,r):\n",
        "  a=combinations(arr,r)\n",
        "  for i in a:\n",
        "    maxnum=(max(i))\n",
        "    print(maxnum)\n",
        "\n",
        "  return list(a)  \n",
        "if __name__ ==\"__main__\":\n",
        "   arr=[2,4,2,3,1]\n",
        "   r=3\n",
        "   print(rSubset(arr,r))"
      ],
      "execution_count": 5,
      "outputs": [
        {
          "output_type": "stream",
          "text": [
            "4\n",
            "4\n",
            "4\n",
            "3\n",
            "2\n",
            "3\n",
            "4\n",
            "4\n",
            "4\n",
            "3\n",
            "[]\n"
          ],
          "name": "stdout"
        }
      ]
    }
  ]
}