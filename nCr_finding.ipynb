{
  "nbformat": 4,
  "nbformat_minor": 0,
  "metadata": {
    "colab": {
      "name": "nCr finding",
      "provenance": [],
      "authorship_tag": "ABX9TyPBKH1nayHnxZkxTIBDhzXj",
      "include_colab_link": true
    },
    "kernelspec": {
      "name": "python3",
      "display_name": "Python 3"
    }
  },
  "cells": [
    {
      "cell_type": "markdown",
      "metadata": {
        "id": "view-in-github",
        "colab_type": "text"
      },
      "source": [
        "<a href=\"https://colab.research.google.com/github/keertanaganiga/Lockdown_coding/blob/master/nCr_finding.ipynb\" target=\"_parent\"><img src=\"https://colab.research.google.com/assets/colab-badge.svg\" alt=\"Open In Colab\"/></a>"
      ]
    },
    {
      "cell_type": "code",
      "metadata": {
        "id": "I2i2H0hViMWj",
        "colab_type": "code",
        "colab": {
          "base_uri": "https://localhost:8080/",
          "height": 148
        },
        "outputId": "e6535d51-cad8-46a9-fa7c-f5f23b1eebc1"
      },
      "source": [
        "def nCr(n, r): \n",
        "  \n",
        "    return (fact(n) / (fact(r)  \n",
        "                * fact(n - r))) \n",
        "def fact(n): \n",
        "    res = 1\n",
        "    for i in range(2, n+1): \n",
        "        res = res * i \n",
        "    return res \n",
        "r = 2\n",
        "N=int(input())\n",
        "arr=[]\n",
        "for i in range(0,N):\n",
        "    ele=int(input())\n",
        "    arr.append(ele)\n",
        "print(int(nCr(N, r))) \n",
        "\n",
        "\n",
        "\n"
      ],
      "execution_count": null,
      "outputs": [
        {
          "output_type": "stream",
          "text": [
            "5\n",
            "1\n",
            "4\n",
            "3\n",
            "2\n",
            "5\n",
            "10\n"
          ],
          "name": "stdout"
        }
      ]
    },
    {
      "cell_type": "code",
      "metadata": {
        "id": "X3WUVKjj8axC",
        "colab_type": "code",
        "colab": {}
      },
      "source": [
        ""
      ],
      "execution_count": null,
      "outputs": []
    },
    {
      "cell_type": "code",
      "metadata": {
        "id": "pGwmvB7JiSwi",
        "colab_type": "code",
        "colab": {}
      },
      "source": [
        ""
      ],
      "execution_count": null,
      "outputs": []
    }
  ]
}