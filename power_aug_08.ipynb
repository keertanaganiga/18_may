{
  "nbformat": 4,
  "nbformat_minor": 0,
  "metadata": {
    "colab": {
      "name": "power_aug_08",
      "provenance": [],
      "authorship_tag": "ABX9TyNxMpgedMAAhDQgCfnpytGZ",
      "include_colab_link": true
    },
    "kernelspec": {
      "name": "python3",
      "display_name": "Python 3"
    }
  },
  "cells": [
    {
      "cell_type": "markdown",
      "metadata": {
        "id": "view-in-github",
        "colab_type": "text"
      },
      "source": [
        "<a href=\"https://colab.research.google.com/github/keertanaganiga/Lockdown_coding/blob/master/power_aug_08.ipynb\" target=\"_parent\"><img src=\"https://colab.research.google.com/assets/colab-badge.svg\" alt=\"Open In Colab\"/></a>"
      ]
    },
    {
      "cell_type": "code",
      "metadata": {
        "id": "uJMwaqluEEH5",
        "colab_type": "code",
        "colab": {
          "base_uri": "https://localhost:8080/",
          "height": 230
        },
        "outputId": "fbb48db0-3f62-4196-f296-88be2cf46c4f"
      },
      "source": [
        "\n",
        "terms = int(input())\n",
        "\n",
        "result = list(map(lambda x: 2 ** x, range(terms)))\n",
        "\n",
        "print(\"The total terms are:\",terms)\n",
        "for i in range(terms):\n",
        "   print(\"2 raised to power\",i,\"is\",result[i])"
      ],
      "execution_count": 2,
      "outputs": [
        {
          "output_type": "stream",
          "text": [
            "10\n",
            "The total terms are: 10\n",
            "2 raised to power 0 is 1\n",
            "2 raised to power 1 is 2\n",
            "2 raised to power 2 is 4\n",
            "2 raised to power 3 is 8\n",
            "2 raised to power 4 is 16\n",
            "2 raised to power 5 is 32\n",
            "2 raised to power 6 is 64\n",
            "2 raised to power 7 is 128\n",
            "2 raised to power 8 is 256\n",
            "2 raised to power 9 is 512\n"
          ],
          "name": "stdout"
        }
      ]
    }
  ]
}